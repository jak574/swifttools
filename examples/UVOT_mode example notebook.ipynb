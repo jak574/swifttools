{
 "cells": [
  {
   "cell_type": "markdown",
   "id": "vocational-occasions",
   "metadata": {},
   "source": [
    "# `swift_too` module\n",
    "\n",
    "## `UVOTMode` example - querying UVOT mode table\n",
    "\n",
    "### API version = 1.2, `swifttools` version = 3.0.8\n",
    "\n",
    "#### Author: Jamie A. Kennea (Penn State)\n",
    "\n",
    "For a given UVOT mode hex value, find out exactly what it does."
   ]
  },
  {
   "cell_type": "markdown",
   "id": "efficient-journalism",
   "metadata": {},
   "source": [
    "# Initialization \n",
    "\n",
    "First we import the UVOTMode class. Note: As of `swifttools 3.0.8` we have changed the name of this class to a more [PEP8](https://peps.python.org/pep-0008/#class-names) compliant `UVOTMode`. The old `UVOT_Mode` still works!"
   ]
  },
  {
   "cell_type": "code",
   "execution_count": null,
   "id": "reasonable-allocation",
   "metadata": {},
   "outputs": [],
   "source": [
    "from swifttools.swift_too import UVOTMode"
   ]
  },
  {
   "cell_type": "markdown",
   "id": "therapeutic-collectible",
   "metadata": {},
   "source": [
    "# Submit the query\n",
    "\n",
    "Now submit the query using the function call form of the class. Note that as of `swifttools 2.2` the default login is anonymous, so we don't have to give that as a parameter. Note that you can give the requested UVOT mode as an argument either by passing `uvotmode = 0x30ed` or simply by passing `0x30ed` as `uvotmode` is the default first argument."
   ]
  },
  {
   "cell_type": "code",
   "execution_count": null,
   "id": "involved-penny",
   "metadata": {},
   "outputs": [],
   "source": [
    "query = UVOTMode(0x30ED)"
   ]
  },
  {
   "cell_type": "markdown",
   "id": "speaking-gross",
   "metadata": {},
   "source": [
    "Now check the query was accepted and worked."
   ]
  },
  {
   "cell_type": "code",
   "execution_count": null,
   "id": "ordered-consumption",
   "metadata": {},
   "outputs": [],
   "source": [
    "if query.status == \"Accepted\":\n",
    "    print(f\"Status: {query.status.status}\")\n",
    "else:\n",
    "    print(f\"Errors in query: {[error for error in query.status.errors]}\")"
   ]
  },
  {
   "cell_type": "markdown",
   "id": "enabling-slovakia",
   "metadata": {},
   "source": [
    "# Display Results\n",
    "\n",
    "Now the query has been accepted, we can display the results by simply typing in the name of the query object into the command line."
   ]
  },
  {
   "cell_type": "code",
   "execution_count": null,
   "id": "informal-franklin",
   "metadata": {},
   "outputs": [],
   "source": [
    "query"
   ]
  },
  {
   "cell_type": "markdown",
   "id": "temporal-indicator",
   "metadata": {},
   "source": [
    "This is formatted as a pretty table for Jupyter Notebooks, but also formatted for fixed-width font text if run on the command line Python or printed, e.g.:"
   ]
  },
  {
   "cell_type": "code",
   "execution_count": null,
   "id": "simple-rebate",
   "metadata": {},
   "outputs": [],
   "source": [
    "print(query)"
   ]
  },
  {
   "cell_type": "markdown",
   "id": "impaired-baking",
   "metadata": {},
   "source": [
    "Of course all the data from this table is included in the class, and some data also that is not in the table."
   ]
  },
  {
   "cell_type": "code",
   "execution_count": null,
   "id": "illegal-international",
   "metadata": {},
   "outputs": [],
   "source": [
    "query.entries[0]"
   ]
  },
  {
   "cell_type": "markdown",
   "id": "b976424c",
   "metadata": {},
   "source": [
    "### Bright Star Checking\n",
    "\n",
    "As of `swifttools 3.0.6` if you pass the coordinates of an object to `UVOTMode`, a check if this is a valid mode for that area of sky is made. For some regions around bright stars, UVOT modes are excluded. If any filter in the selected mode is not allowed, UVOTMode will return an error. Here's an example, looking at a very bright star:"
   ]
  },
  {
   "cell_type": "code",
   "execution_count": null,
   "id": "c43f4456",
   "metadata": {},
   "outputs": [],
   "source": [
    "UVOTMode(name=\"Vega\", uvotmode=0x30ED)"
   ]
  },
  {
   "cell_type": "markdown",
   "id": "7b8a85b9",
   "metadata": {},
   "source": [
    "The error reported here shows that all 6 filters are not allow, in fact as Vega is a 0th magntude star, you can't look at it with UVOT. \n",
    "\n",
    "More detailed bright star checking is planned for a future API update. Please discuss UVOT filter choices with the Swift team!"
   ]
  }
 ],
 "metadata": {
  "kernelspec": {
   "display_name": "Python 3 (ipykernel)",
   "language": "python",
   "name": "python3"
  },
  "language_info": {
   "codemirror_mode": {
    "name": "ipython",
    "version": 3
   },
   "file_extension": ".py",
   "mimetype": "text/x-python",
   "name": "python",
   "nbconvert_exporter": "python",
   "pygments_lexer": "ipython3",
   "version": "3.9.14"
  }
 },
 "nbformat": 4,
 "nbformat_minor": 5
}
