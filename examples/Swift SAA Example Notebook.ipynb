{
 "cells": [
  {
   "cell_type": "markdown",
   "id": "7a04a5ae",
   "metadata": {},
   "source": [
    "# `swift_too` module\n",
    "\n",
    "## `Swift_SAA` example - Querying and fetching the results of an existing job\n",
    "\n",
    "### API version = 1.2, `swifttools` version 3.0.8\n",
    "\n",
    "#### Author: Jamie A. Kennea (Penn State)\n",
    "\n",
    "This is a class to determine when Swift will be inside the South Atlantic Anomaly (SAA). During SAA passages, all instruments are turned off. There are two SAA definitions, the default is the Spacecraft SAA definition which is used by the Swift X-ray Telescope (XRT) and UV/Optical Telescope (UVOT). The second is an approximation of the Burst Alert Telescope (BAT) SAA time. As BAT self determines if it is in the SAA based on rates, the BAT SAA is based on a model that predicts when this should happen. "
   ]
  },
  {
   "cell_type": "code",
   "execution_count": null,
   "id": "f3e1bdf4",
   "metadata": {},
   "outputs": [],
   "source": [
    "from swifttools.swift_too import SAA"
   ]
  },
  {
   "cell_type": "markdown",
   "id": "f5a0c632",
   "metadata": {},
   "source": [
    "### Querying SAA times\n",
    "\n",
    "In order to query when Swift will be going through the SAA on a particular day, just call as follows:"
   ]
  },
  {
   "cell_type": "code",
   "execution_count": null,
   "id": "938b66cc",
   "metadata": {},
   "outputs": [],
   "source": [
    "saa = SAA(\"2022-03-30\")\n",
    "saa"
   ]
  },
  {
   "cell_type": "markdown",
   "id": "ef440bce",
   "metadata": {},
   "source": [
    "As can be seen able, the returned value is a table of SAA `begin` and `end` times. The default first parameter passed to SAA above is `begin`. For this request `length` defaults to 1 day, so the value of `end` is automatically set to `2022-03-30`. You can set `begin`, `end` and `length` by hand if you wish.\n",
    "\n",
    "So an alternative way to do the above could be:"
   ]
  },
  {
   "cell_type": "code",
   "execution_count": null,
   "id": "59942b12",
   "metadata": {},
   "outputs": [],
   "source": [
    "SAA(\"2022-03-29\", \"2022-03-30\")"
   ]
  },
  {
   "cell_type": "markdown",
   "id": "06b6aa22",
   "metadata": {},
   "source": [
    "or"
   ]
  },
  {
   "cell_type": "code",
   "execution_count": null,
   "id": "403cdcb6",
   "metadata": {},
   "outputs": [],
   "source": [
    "SAA(\"2022-03-29\", length=1)"
   ]
  },
  {
   "cell_type": "markdown",
   "id": "ee3124a6",
   "metadata": {},
   "source": [
    "### `swifttools 3.0.8` more for astropy fans\n",
    "\n",
    "You can also use `astropy` `Time` to define start and end, and as of `3.0.8` you can use `astropy` units also, let's demonstrate!"
   ]
  },
  {
   "cell_type": "code",
   "execution_count": null,
   "id": "75a60e7d",
   "metadata": {},
   "outputs": [],
   "source": [
    "import astropy.units as u\n",
    "from astropy.time import Time\n",
    "\n",
    "t = Time(59800, format=\"mjd\")\n",
    "SAA(t, t + 1 * u.day)"
   ]
  },
  {
   "cell_type": "markdown",
   "id": "89f76ae9",
   "metadata": {},
   "source": [
    "### BAT SAA passage times\n",
    "\n",
    "In order to estimate SAA passage times for the BAT instrument, simply set the parameter `bat = True`, e.g.:"
   ]
  },
  {
   "cell_type": "code",
   "execution_count": null,
   "id": "c73e314d",
   "metadata": {},
   "outputs": [],
   "source": [
    "saa = SAA(\"2022-03-29\", bat=True)\n",
    "saa"
   ]
  },
  {
   "cell_type": "markdown",
   "id": "79441e20",
   "metadata": {},
   "source": [
    "You will notice that the times for entry and exit differ for BAT, and the passages are usually shorter.\n",
    "\n",
    "### Accessing the pass information\n",
    "\n",
    "In order to access information on an individual pass, you can see in the tables above the first column gives the array index of each entry, therefore you can access the information about the SAA pass @ 18:54:06 by the following command:"
   ]
  },
  {
   "cell_type": "code",
   "execution_count": null,
   "id": "881340aa",
   "metadata": {},
   "outputs": [],
   "source": [
    "saa[8]"
   ]
  },
  {
   "cell_type": "markdown",
   "id": "def78327",
   "metadata": {},
   "source": [
    "The above is a instance of the `Swift_SAA_Entry` class, which is a simple container class that contains two entries, `begin` and `end`, which give the beginning and end times of the SAA passage. "
   ]
  },
  {
   "cell_type": "code",
   "execution_count": null,
   "id": "37e45f84",
   "metadata": {},
   "outputs": [],
   "source": [
    "print(saa[8].begin)"
   ]
  },
  {
   "cell_type": "code",
   "execution_count": null,
   "id": "c96274b8",
   "metadata": {},
   "outputs": [],
   "source": [
    "print(saa[8].end)"
   ]
  },
  {
   "cell_type": "markdown",
   "id": "73261855",
   "metadata": {},
   "source": [
    "### A note about clock correction\n",
    "\n",
    "Note that all times in the `Swift_SAA` class are times in UTC. However, if you want to know when the SAA times will happen in either Mission Elapsed Time (seconds since 2001-01-01 as measured by Swift's onboard clock) or Swift Time (a simple conversion of MET to a UTC-like date format, without leap second or clock drift adjustments), you can perform a clock correction using the `clock_correct()` method, e.g.:"
   ]
  },
  {
   "cell_type": "code",
   "execution_count": null,
   "id": "10f1f2aa",
   "metadata": {},
   "outputs": [],
   "source": [
    "saa.clock_correct()\n",
    "saa"
   ]
  },
  {
   "cell_type": "markdown",
   "id": "b7104f3c",
   "metadata": {},
   "source": [
    "As you can see now the columns are explicitly listed as being UTC. You can convert to Swift Time easily, like so:"
   ]
  },
  {
   "cell_type": "code",
   "execution_count": null,
   "id": "6bdc84fb",
   "metadata": {},
   "outputs": [],
   "source": [
    "saa.to_swifttime()\n",
    "saa"
   ]
  },
  {
   "cell_type": "markdown",
   "id": "3c696267",
   "metadata": {},
   "source": [
    "or access the MET times of individual SAA passage times, by using the `met` attribute:"
   ]
  },
  {
   "cell_type": "code",
   "execution_count": null,
   "id": "1c2b7b34",
   "metadata": {},
   "outputs": [],
   "source": [
    "saa[8].begin.met"
   ]
  }
 ],
 "metadata": {
  "kernelspec": {
   "display_name": "Python 3 (ipykernel)",
   "language": "python",
   "name": "python3"
  },
  "language_info": {
   "codemirror_mode": {
    "name": "ipython",
    "version": 3
   },
   "file_extension": ".py",
   "mimetype": "text/x-python",
   "name": "python",
   "nbconvert_exporter": "python",
   "pygments_lexer": "ipython3",
   "version": "3.9.14"
  }
 },
 "nbformat": 4,
 "nbformat_minor": 5
}
