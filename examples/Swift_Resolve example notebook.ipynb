{
 "cells": [
  {
   "cell_type": "markdown",
   "id": "e6ae2f15",
   "metadata": {},
   "source": [
    "# `swift_too` module\n",
    "\n",
    "## Swift Resolve example - conversion of name of object into coordinates\n",
    "\n",
    "### API version = 1.2 `swiftools` = 3.0.8\n",
    "\n",
    "#### Author: Jamie A. Kennea (Penn State)"
   ]
  },
  {
   "cell_type": "code",
   "execution_count": null,
   "id": "1c75dc34",
   "metadata": {},
   "outputs": [],
   "source": [
    "from swifttools.swift_too import TOO, ObsQuery, Resolve, Swift_Resolve, VisQuery"
   ]
  },
  {
   "cell_type": "markdown",
   "id": "c9190304",
   "metadata": {},
   "source": [
    "### Name Resolution\n",
    "\n",
    "\"Name resolution\" is the process of looking up a target by name to find out it's coordinates. the Swift TOO API provides (as of `swifttools 2.3`) a method for performing this task called `Swift_Resolve`, although for most cases you won't actually need to call this class by itself. `Swift_Resolve` essentially queries online name resolvers for a given name. We can demonstrate the usage as follows:"
   ]
  },
  {
   "cell_type": "code",
   "execution_count": null,
   "id": "7682fdbd",
   "metadata": {},
   "outputs": [],
   "source": [
    "Swift_Resolve(name=\"LMC X-3\")"
   ]
  },
  {
   "cell_type": "markdown",
   "id": "afc17d47",
   "metadata": {},
   "source": [
    "So here we see that the RA / Dec value has been returned for RA/Dec based on the Simbad database (http://simbad.u-strasbg.fr/simbad/). We can also query more recent transients by querying transient brokers for coordinates such as TNS (https://www.wis-tns.org) and MARS (https://mars.lco.global). The choice of name resolver is automatic, so for example:"
   ]
  },
  {
   "cell_type": "code",
   "execution_count": null,
   "id": "96125e09",
   "metadata": {},
   "outputs": [],
   "source": [
    "Resolve(name=\"AT2018cow\")"
   ]
  },
  {
   "cell_type": "markdown",
   "id": "619d3057",
   "metadata": {},
   "source": [
    "Firstly, for `swifttools 2.3` we have introduced shorthand names for these classes, no longer do you need to include the `Swift_` prefix, so just `Resolve` works.\n",
    "\n",
    "You can see that for \"The Cow\" the name has been resolved using TNS. This is because it recognizes that names starting with AT originate with TNS. This is useful for recent transients as Simbad often will not include them until results have been published. E.g. "
   ]
  },
  {
   "cell_type": "code",
   "execution_count": null,
   "id": "2e416b4c",
   "metadata": {},
   "outputs": [],
   "source": [
    "Resolve(name=\"AT2022aaa\")"
   ]
  },
  {
   "cell_type": "markdown",
   "id": "6e3d3f81",
   "metadata": {},
   "source": [
    "For ZTF sources, MARS, which is a broker for ZTF transients, is used."
   ]
  },
  {
   "cell_type": "code",
   "execution_count": null,
   "id": "5c3c6120",
   "metadata": {},
   "outputs": [],
   "source": [
    "res = Resolve(name=\"ZTF20aasoapr\")\n",
    "res"
   ]
  },
  {
   "cell_type": "markdown",
   "id": "c0aa4462",
   "metadata": {},
   "source": [
    "We can as well as `ra` and `dec` attributes, use the `skycoord` attribute to return a astropy SkyCoord for the location. Note this will only work if you have `astropy` installed, and if you don't the next line will cause an error."
   ]
  },
  {
   "cell_type": "code",
   "execution_count": null,
   "id": "9b971cc9",
   "metadata": {},
   "outputs": [],
   "source": [
    "res.skycoord"
   ]
  },
  {
   "cell_type": "markdown",
   "id": "2ec55653",
   "metadata": {},
   "source": [
    "This is of course useful if you want to do things like convert to different formats, e.g."
   ]
  },
  {
   "cell_type": "code",
   "execution_count": null,
   "id": "59a7aacf",
   "metadata": {},
   "outputs": [],
   "source": [
    "res.skycoord.galactic"
   ]
  },
  {
   "cell_type": "markdown",
   "id": "ad0f729b",
   "metadata": {},
   "source": [
    "### Using Swift_Resolve in API queries\n",
    "\n",
    "Note that in order to use the RA/Dec of a source in API queries, we can simply pass the `ra`, `dec` or `skycoord` to the API query, for example:"
   ]
  },
  {
   "cell_type": "code",
   "execution_count": null,
   "id": "aec699a3",
   "metadata": {},
   "outputs": [],
   "source": [
    "VisQuery(ra=res.ra, dec=res.dec, length=7)"
   ]
  },
  {
   "cell_type": "code",
   "execution_count": null,
   "id": "a538baa0",
   "metadata": {},
   "outputs": [],
   "source": [
    "VisQuery(skycoord=res.skycoord, length=7)"
   ]
  },
  {
   "cell_type": "markdown",
   "id": "907d8edb",
   "metadata": {},
   "source": [
    "### Using Swift_Resolve automatically\n",
    "\n",
    "However, for most cases you will not want to have to generate a stand alone `Swift_Resolve` instance, as for API calls as of `swifttools 2.3` you can simply pass the `name` parameter, and it will automatically look up the RA/Dec. Here is an example using `Swift_ObsQuery`:"
   ]
  },
  {
   "cell_type": "code",
   "execution_count": null,
   "id": "fb07ee84",
   "metadata": {},
   "outputs": [],
   "source": [
    "obs = ObsQuery(name=\"AT2018ahz\")\n",
    "obs"
   ]
  },
  {
   "cell_type": "markdown",
   "id": "f1ee7572",
   "metadata": {},
   "source": [
    "In this case, the `Swift_Resolve` call was generated automatically, and the results passed into the `Swift_ObsQuery` class. You can get the results of that call by looking at the `resolve` attribute:"
   ]
  },
  {
   "cell_type": "code",
   "execution_count": null,
   "id": "daf60df2",
   "metadata": {},
   "outputs": [],
   "source": [
    "obs.resolve"
   ]
  },
  {
   "cell_type": "code",
   "execution_count": null,
   "id": "14358050",
   "metadata": {},
   "outputs": [],
   "source": [
    "obs.skycoord"
   ]
  },
  {
   "cell_type": "markdown",
   "id": "731b5594",
   "metadata": {},
   "source": [
    "### Use in `Swift_TOO` \n",
    "\n",
    "Update for `swifttools 3.0.8`, `Swift_TOO` AKA `TOO` will now auto-resolve any name given to `source_name`, so all you have to do now is give the name of your source, and it will automatically fill the coordinates in. Please of course, remember to double check your coordinates!"
   ]
  },
  {
   "cell_type": "code",
   "execution_count": null,
   "id": "46722a70",
   "metadata": {},
   "outputs": [],
   "source": [
    "too = TOO(source_name=\"Crab\")\n",
    "print(f\"RA/Dec(J2000) = {too.skycoord.to_string(style='hmsdms')}\")"
   ]
  },
  {
   "cell_type": "markdown",
   "id": "3623da95",
   "metadata": {},
   "source": [
    "Or course, you can still set the values of RA/Dec manually."
   ]
  },
  {
   "cell_type": "code",
   "execution_count": null,
   "id": "164a0ff4",
   "metadata": {},
   "outputs": [],
   "source": [
    "too.ra = 83.6331\n",
    "too.dec = 22.0145\n",
    "print(f\"RA/Dec(J2000) = {too.skycoord.to_string(style='hmsdms')}\")"
   ]
  }
 ],
 "metadata": {
  "kernelspec": {
   "display_name": "Python 3 (ipykernel)",
   "language": "python",
   "name": "python3"
  },
  "language_info": {
   "codemirror_mode": {
    "name": "ipython",
    "version": 3
   },
   "file_extension": ".py",
   "mimetype": "text/x-python",
   "name": "python",
   "nbconvert_exporter": "python",
   "pygments_lexer": "ipython3",
   "version": "3.9.14"
  }
 },
 "nbformat": 4,
 "nbformat_minor": 5
}
