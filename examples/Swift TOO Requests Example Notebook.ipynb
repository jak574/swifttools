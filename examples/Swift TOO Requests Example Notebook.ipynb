{
 "cells": [
  {
   "cell_type": "markdown",
   "id": "10c30734",
   "metadata": {},
   "source": [
    "# `swift_too` module\n",
    "\n",
    "## Swift_TOO_Requests example - querying planned *Swift* observations\n",
    "\n",
    "### API version = 1.2, `swifttools` version = 2.4\n",
    "\n",
    "#### Author: Jamie A. Kennea (Penn State)\n",
    "\n",
    "The `Swift_TOO_Requests` (or shorthand as of `swifttools` 2.3, `TOORequests`) allows the user to query submitted Swift TOO requests. This can be used either to retrieve detail on requests that you have submitted, or details on all TOO requests.\n",
    "\n",
    "Two important caveats:\n",
    "\n",
    "1. Detailed information on TOOs, including Science Justification text are only retrievable if you are the TOO submitter.\n",
    "\n",
    "2. Only details of approved TOO requests are available. TOOs that have been rejected cannot be fetched.\n",
    "\n",
    "This is therefore useful if you wish to retrieve what you have previously submitted, or see what the current active TOOs are, so you can see if someone has already submitted a TOO for the target you are interested in."
   ]
  },
  {
   "cell_type": "code",
   "execution_count": null,
   "id": "4707436d",
   "metadata": {},
   "outputs": [],
   "source": [
    "from swifttools.swift_too import TOORequests"
   ]
  },
  {
   "cell_type": "markdown",
   "id": "bc24d815",
   "metadata": {},
   "source": [
    "### First example - the 20 most recent Swift TOO requests\n",
    "\n",
    "In this example we request information on the last 20 TOO requests approved for observation by Swift. No username or shared_secret needs to be submitted for this request, however if you do submit them the result will be no different. "
   ]
  },
  {
   "cell_type": "code",
   "execution_count": null,
   "id": "4a1696d9",
   "metadata": {},
   "outputs": [],
   "source": [
    "toos = TOORequests(begin=\"2022-01-01\", length=10)"
   ]
  },
  {
   "cell_type": "code",
   "execution_count": null,
   "id": "bbaa5569",
   "metadata": {},
   "outputs": [],
   "source": [
    "if toos.submit():\n",
    "    print(\"Success!\")\n",
    "else:\n",
    "    print(f\"Failure: {toos.status.errors}\")"
   ]
  },
  {
   "cell_type": "markdown",
   "id": "aca5818a",
   "metadata": {},
   "source": [
    "That should have worked, so we can now display the 20 most recent approved Swift TOOs by simply display"
   ]
  },
  {
   "cell_type": "code",
   "execution_count": null,
   "id": "5bd376d9",
   "metadata": {},
   "outputs": [],
   "source": [
    "toos"
   ]
  },
  {
   "cell_type": "markdown",
   "id": "bc0d2511",
   "metadata": {},
   "source": [
    "We can also display all the information we obtained for each TOO request as follows, to display the first (and by default most recent) TOO in the list above, do the following."
   ]
  },
  {
   "cell_type": "code",
   "execution_count": null,
   "id": "0cc82450",
   "metadata": {},
   "outputs": [],
   "source": [
    "toos[1]"
   ]
  },
  {
   "cell_type": "markdown",
   "id": "7c79a94b",
   "metadata": {},
   "source": [
    "If you want to fetch the information for a given `too_id` value, you get use the `by_id` method. Here is an example:"
   ]
  },
  {
   "cell_type": "code",
   "execution_count": null,
   "id": "ac475b10",
   "metadata": {},
   "outputs": [],
   "source": [
    "toos.by_id(16821)"
   ]
  },
  {
   "cell_type": "markdown",
   "id": "e27a7ce1",
   "metadata": {},
   "source": [
    "### Displaying the scheduling information for a TOO\n",
    "\n",
    "If you are interested to know when/if a TOO has been scheduled in the Swift Planning calendar, you can obtain this information by looking that the `calendar` attribute. This is an instance of the `Swift_Calendar` class. You can display it as follows."
   ]
  },
  {
   "cell_type": "code",
   "execution_count": null,
   "id": "8f309424",
   "metadata": {},
   "outputs": [],
   "source": [
    "toos.by_id(16821).calendar"
   ]
  },
  {
   "cell_type": "markdown",
   "id": "04590d3d",
   "metadata": {},
   "source": [
    "You can see here that the calendar has even more information about the TOO. This includes the start and end time of each window, the XRT and UVOT modes used, the requested exposure time per window, and the column **AFST** shows the amount of exposure time taken on that target during the window.\n",
    "\n",
    "Note that a window here is a period of time for which an observation is requested to occur. If the window is a day long, that typically means that the observation can be scheduled at any time during the day. Shorter windows with specific start and end times typically denotes a time constrained observation, e.g. an observation coordinated with another telescope, or an observation where obtaining an observation at a given orbital phase is requested.\n",
    "\n",
    "Note the AFST column is just a guide. It only shows observations taken with the window, so if an observation were taken the next day, or not completely in the window, it will not reflect the full observation time. In order to obtain information about Swift observations of any given Target, use a `Swift_ObsQuery`.\n",
    "\n",
    "### Public vs Private TOO Requests\n",
    "\n",
    "So far the information we have retrieved is what is available publically. This is limited for privacy reasons, but if you have submitted a TOO yourself, you can retrieve more information. To do this you need to provide your `username` and `shared_secret`. Note that if your computer supports Python's `keyring` module, for storing passwords, then your secret should already be stored if you've used it before to submit a TOO request. In this case you can just give your username."
   ]
  },
  {
   "cell_type": "code",
   "execution_count": null,
   "id": "ec27aeb4",
   "metadata": {},
   "outputs": [],
   "source": [
    "mytoo = TOORequests()\n",
    "mytoo.username = \"myuser\"\n",
    "mytoo.shared_secret = \"mysharedsecret\"\n",
    "mytoo.detail = True\n",
    "mytoo.too_id = 16832\n",
    "mytoo.submit()"
   ]
  },
  {
   "cell_type": "markdown",
   "id": "44ae7ce7",
   "metadata": {},
   "source": [
    "You can now look at the detailed information from your TOO request, including non-public information. The TOO request below was submitted by the author (Jamie Kennea), so this is what is presented here."
   ]
  },
  {
   "cell_type": "code",
   "execution_count": null,
   "id": "86aa8a79",
   "metadata": {},
   "outputs": [],
   "source": [
    "mytoo"
   ]
  },
  {
   "cell_type": "markdown",
   "id": "401e5de4",
   "metadata": {},
   "source": [
    "Also the calendar for this TOO, including what was observed vs what was planned. "
   ]
  },
  {
   "cell_type": "code",
   "execution_count": null,
   "id": "c214664f",
   "metadata": {},
   "outputs": [],
   "source": [
    "mytoo[0].calendar"
   ]
  },
  {
   "cell_type": "code",
   "execution_count": null,
   "id": "57e5f1cb",
   "metadata": {},
   "outputs": [],
   "source": []
  }
 ],
 "metadata": {
  "kernelspec": {
   "display_name": "Python 3 (ipykernel)",
   "language": "python",
   "name": "python3"
  },
  "language_info": {
   "codemirror_mode": {
    "name": "ipython",
    "version": 3
   },
   "file_extension": ".py",
   "mimetype": "text/x-python",
   "name": "python",
   "nbconvert_exporter": "python",
   "pygments_lexer": "ipython3",
   "version": "3.9.14"
  }
 },
 "nbformat": 4,
 "nbformat_minor": 5
}
