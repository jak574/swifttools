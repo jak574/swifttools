{
 "cells": [
  {
   "cell_type": "markdown",
   "metadata": {},
   "source": [
    "# `swift_too` module\n",
    "\n",
    "## Swift_VisQuery Example - Querying the visibility for a given target\n",
    "\n",
    "### API version = 1.2, `swifttools` version = 3.0.8\n",
    "\n",
    "#### Author: Jamie A. Kennea (Penn State)\n",
    "\n",
    "### Introduction \n",
    "\n",
    "This example shows how we can use the `swift_too` module to give us predicted long term visibility for targets. Note that long term visibility calculates if a target can be observed on Swift based on Sun, Moon and Pole constraints. It does not calculate the visibility due to Earth occultations. \n",
    "\n",
    "Visibility is based on the most up to date TLE derived prediction of the spacecraft location into the future. Although this will not affect Sun and Moon constraints, Pole constraint accuracy may get worse the further into the future we look.\n",
    "\n",
    "### Setting up the Query\n",
    "\n",
    "First step, import the `Swift_VisQuery` class from TOO API, and whatever supporting Python modules we might need along the way. *Note*: As of `swifttools` 2.3, we can use shorthand for class names, by omitting the `Swift_`, so in this case, just `VisQuery` will do."
   ]
  },
  {
   "cell_type": "code",
   "execution_count": null,
   "metadata": {},
   "outputs": [],
   "source": [
    "from datetime import datetime, timedelta\n",
    "from time import sleep\n",
    "\n",
    "from swifttools.swift_too import VisQuery"
   ]
  },
  {
   "cell_type": "markdown",
   "metadata": {},
   "source": [
    "As of `swifttools 2.2` username and shared_secret default to anonymous, so you do not have to give them any more."
   ]
  },
  {
   "cell_type": "code",
   "execution_count": null,
   "metadata": {},
   "outputs": [],
   "source": [
    "query = VisQuery()"
   ]
  },
  {
   "cell_type": "markdown",
   "metadata": {},
   "source": [
    "### Coordinate formats\n",
    "\n",
    "We set up the parameters for the query, the minimum required parameters are RA/Dec coordinates, and the number of days to calculate the visibility over in days. RA/Dec are given in decimal degrees in J2000."
   ]
  },
  {
   "cell_type": "code",
   "execution_count": null,
   "metadata": {},
   "outputs": [],
   "source": [
    "query.ra, query.dec = 19.27144, -73.44334"
   ]
  },
  {
   "cell_type": "markdown",
   "metadata": {},
   "source": [
    "Of if you want to just use the name of the source, `Swift_VisQuery` will automatically resolve it for you, like so:"
   ]
  },
  {
   "cell_type": "code",
   "execution_count": null,
   "metadata": {},
   "outputs": [],
   "source": [
    "query.name = \"SMC X-1\"\n",
    "query.resolve"
   ]
  },
  {
   "cell_type": "markdown",
   "metadata": {},
   "source": [
    "You can see here that the `resolve` attribute shows the coordinates of SMC X-1 as resolved by Simbad. These values are automatically copied to `ra` and `dec`, and also `skycoord` (if `astropy` is installed)."
   ]
  },
  {
   "cell_type": "code",
   "execution_count": null,
   "metadata": {},
   "outputs": [],
   "source": [
    "query.skycoord"
   ]
  },
  {
   "cell_type": "markdown",
   "metadata": {},
   "source": [
    "Or for convenience we can use Astropy SkyCoord object to submit the coordinates in any format you like. They will just be converted into J2000 / FK5 RA/Dec upon submission. The following example shows how to submit a request based on Galactic Coordinates, in our case, the Galactic Center (lII/bII = 0,0)."
   ]
  },
  {
   "cell_type": "code",
   "execution_count": null,
   "metadata": {},
   "outputs": [],
   "source": [
    "from astropy.coordinates import SkyCoord\n",
    "\n",
    "query.skycoord = SkyCoord(\"0.0\", \"0.0\", frame=\"galactic\", unit=\"deg\")"
   ]
  },
  {
   "cell_type": "markdown",
   "metadata": {},
   "source": [
    "If we print out RA / Dec now, we'll see it reflects the SkyCoord in the previous line."
   ]
  },
  {
   "cell_type": "code",
   "execution_count": null,
   "metadata": {},
   "outputs": [],
   "source": [
    "print(f\"SkyCoord should be the equivalent of RA/Dec(J2000) = {query.ra:.4f}, {query.dec:.4f}\")"
   ]
  },
  {
   "cell_type": "markdown",
   "metadata": {},
   "source": [
    "Note if you modify the RA/Dec values after setting a skycoord, the skycoord variable is altered to match the new coordinates. Note that the frame will default to FK5. If `astropy` is installed, `swifttools 2.2` and above will allow you to access skycoord version of RA/Dec using the `skycoord` attribute."
   ]
  },
  {
   "cell_type": "code",
   "execution_count": null,
   "metadata": {},
   "outputs": [],
   "source": [
    "query.ra = 19.2714\n",
    "query.dec = -73.4433\n",
    "print(query.skycoord)"
   ]
  },
  {
   "cell_type": "markdown",
   "metadata": {},
   "source": [
    "### Visibility Period\n",
    "\n",
    "Final parameter, we set the length of time we wish to calculate the visibility for. Note we haven't set a start time, it will default to now. The default value is 7 days, so if you want to search for a week, then this value is isn't required. We'll set it anyway."
   ]
  },
  {
   "cell_type": "code",
   "execution_count": null,
   "metadata": {},
   "outputs": [],
   "source": [
    "query.length = 7  # days"
   ]
  },
  {
   "cell_type": "markdown",
   "metadata": {},
   "source": [
    "### `swifttools 3.0.8` astropy units support\n",
    "\n",
    "`swifttools 3.0.8` broadends support for `astropy` conventions, adding unit support, so now you can give units when setting things like `length`. Let's demonstrate:"
   ]
  },
  {
   "cell_type": "code",
   "execution_count": null,
   "metadata": {},
   "outputs": [],
   "source": [
    "import astropy.units as u\n",
    "\n",
    "query.length = 1 * u.week\n",
    "print(f\"{query.length=}\")  # Note if this crashes, you're probably using Python 3.6."
   ]
  },
  {
   "cell_type": "markdown",
   "metadata": {},
   "source": [
    "Note that `VisQuery` stores length as days internally, so using the `astropy` `week` unit here, simply converts to 7."
   ]
  },
  {
   "cell_type": "markdown",
   "metadata": {},
   "source": [
    "### Submitting the Query for processing\n",
    "\n",
    "Now we submit the request to the Swift TOO API server. The following code is a bit overcooked, you can just do `query.submit()` and it achieves the same thing, but you will have to check it for any errors."
   ]
  },
  {
   "cell_type": "code",
   "execution_count": null,
   "metadata": {},
   "outputs": [],
   "source": [
    "if query.queue():\n",
    "    while not query.complete:\n",
    "        print(f\"Waiting for job #{query.status.jobnumber} to be processed ...\")\n",
    "        sleep(2)\n",
    "    print(f\"Done. Job #{query.status.jobnumber} complete\")\n",
    "else:\n",
    "    print(f\"Request rejected. Error: {query.status.errors}\")"
   ]
  },
  {
   "cell_type": "markdown",
   "metadata": {},
   "source": [
    "### Examining the returned results\n",
    "\n",
    "Assuming success let's see what we get from the TOO API server in response to this request. We'll do this by typing in the name of the query object, which in a Jupyter Notebook will display the results as a table."
   ]
  },
  {
   "cell_type": "code",
   "execution_count": null,
   "metadata": {},
   "outputs": [],
   "source": [
    "query"
   ]
  },
  {
   "cell_type": "markdown",
   "metadata": {},
   "source": [
    "You'll notice the API starts calculating the visibility from when the submission was sent, or at least to the nearest minute, if the `begin` property is not set. If the target is still visibile window after the amount of time you specified by `length` has ended, it will report that as the end of the visibility window, because it does not calculate beyond that."
   ]
  },
  {
   "cell_type": "code",
   "execution_count": null,
   "metadata": {},
   "outputs": [],
   "source": [
    "print(f\"Time between start of first window and end of last window = {query[-1][1] - query[0][0]}\")"
   ]
  },
  {
   "cell_type": "markdown",
   "metadata": {},
   "source": [
    "### Time formats \n",
    "\n",
    "Window start / stop times are datetime structures and values are UTC."
   ]
  },
  {
   "cell_type": "code",
   "execution_count": null,
   "metadata": {},
   "outputs": [],
   "source": [
    "query[0].begin"
   ]
  },
  {
   "cell_type": "markdown",
   "metadata": {},
   "source": [
    "`astropy` fans can convert these to a `Time` class easily."
   ]
  },
  {
   "cell_type": "code",
   "execution_count": null,
   "metadata": {},
   "outputs": [],
   "source": [
    "from astropy.time import Time\n",
    "\n",
    "tbegins = Time([q.begin for q in query], scale=\"utc\")\n",
    "tends = Time([q.end for q in query], scale=\"utc\")\n",
    "tbegins[0]"
   ]
  },
  {
   "cell_type": "markdown",
   "metadata": {},
   "source": [
    "Which of course makes things like converting into other formats easy!"
   ]
  },
  {
   "cell_type": "code",
   "execution_count": null,
   "metadata": {},
   "outputs": [],
   "source": [
    "print(f\"MJD Visibility Periods for RA/Dec(J2000) = {query.ra}, {query.dec}:\\n\")\n",
    "for i in range(len(tbegins)):\n",
    "    print(f\"MJD {tbegins[i].mjd:.3f} - MJD {tends[i].mjd:.3f}\")"
   ]
  },
  {
   "cell_type": "markdown",
   "metadata": {},
   "source": [
    "### High resolution visibility\n",
    "\n",
    "*Swift* is in a low Earth orbit, so visibility of a target depends on not just the relative positions of the Sun and Moon, but also on whether the target is occulted by the Earth. As Swift's orbit is approximately 96 minutes long, these Earth occultations regularly occur. As you can see from the visibility period above, it does not take these into account. \n",
    "\n",
    "In addition *Swift* cannot observe while the spacecraft is passing through the [South Atlantic Anomaly](https://en.wikipedia.org/wiki/South_Atlantic_Anomaly), and so these periods must be blocked out.\n",
    "\n",
    "You can calculate visiblity windows including these constraints using the `hires` flag. \n",
    "\n",
    "Let's set up a new VisQuery, using the hires flag. This time we'll use a more compact argument based to call it. Note that here we explicity set a `begin` and `end` time for the visibility period. Note that `length` can also be used in place of `end`."
   ]
  },
  {
   "cell_type": "code",
   "execution_count": null,
   "metadata": {},
   "outputs": [],
   "source": [
    "hvq = VisQuery(\n",
    "    ra=19.2714,\n",
    "    dec=-73.4433,\n",
    "    begin=datetime(2021, 2, 1),\n",
    "    end=datetime(2021, 2, 2),\n",
    "    hires=True,\n",
    ")"
   ]
  },
  {
   "cell_type": "markdown",
   "metadata": {},
   "source": [
    "Note that using this form, we don't have to use the `submit()` method, it is called automatically. Still we should still check that the request was successful."
   ]
  },
  {
   "cell_type": "code",
   "execution_count": null,
   "metadata": {},
   "outputs": [],
   "source": [
    "if hvq.status.status == \"Accepted\":\n",
    "    print(\"All Good!\")\n",
    "else:\n",
    "    print(f\"Not good: {hvq.status}\")"
   ]
  },
  {
   "cell_type": "markdown",
   "metadata": {},
   "source": [
    "OK, let's see how our visibility windows look now:"
   ]
  },
  {
   "cell_type": "code",
   "execution_count": null,
   "metadata": {},
   "outputs": [],
   "source": [
    "hvq"
   ]
  },
  {
   "cell_type": "markdown",
   "metadata": {},
   "source": [
    "As you can see, despite only being for a period covering one day, the number of windows is much greater, and the windows are shorter. These windows are the true visibility of a target to *Swift*. Note however, that although windows can be up to 45 minutes long, the maximum that *Swift* can observed a pre-planned target for is 30 minutes.\n",
    "\n",
    "**Another thing to note**: Maximum length that can be calculated in high resolution is 20 days. This is because it is computationally expensive to make this calculation. In addition, these windows are calculated based on a contemporary *Swift* ephemeris derived from a [Two Line Element](https://en.wikipedia.org/wiki/Two-line_element_set). This means that if you go too far into the future, the accuracy of the orbit prediction will suffer. We therefore recommend that you treat predictions of high resolution visibility that go more than 20 days into the future with caution."
   ]
  },
  {
   "cell_type": "markdown",
   "metadata": {},
   "source": [
    "### A note about clock correction\n",
    "\n",
    "#### New in `swifttools 2.4`.\n",
    "\n",
    "The times reported by `VisQuery` are in UTC. However, Swift observations are scheduled using time defined by the Swift onboard clock. This clock not only does not include leap seconds, but also is drifting slightly over time. In order to convert UTC visibility times to Swift times, you can perform a clock correction using the `clock_correction()` method."
   ]
  },
  {
   "cell_type": "code",
   "execution_count": null,
   "metadata": {},
   "outputs": [],
   "source": [
    "hvq.clock_correct()\n",
    "hvq"
   ]
  },
  {
   "cell_type": "markdown",
   "metadata": {},
   "source": [
    "You can now see that the times are explicitely stated to be in UTC. You can convert the above table to give times in the Swift internal clock format, but using the `to_swifttime()` method, e.g.:"
   ]
  },
  {
   "cell_type": "code",
   "execution_count": null,
   "metadata": {},
   "outputs": [],
   "source": [
    "hvq.to_swifttime()\n",
    "hvq"
   ]
  },
  {
   "cell_type": "markdown",
   "metadata": {},
   "source": [
    "As you can see above, the times are now slightly different and the table has changed to indicate that the times are Swift times. Note that for planning purposes, Swift does not schedule at resolution higher than 1 minute, so these clock corrections are not crucial."
   ]
  }
 ],
 "metadata": {
  "kernelspec": {
   "display_name": "Python 3 (ipykernel)",
   "language": "python",
   "name": "python3"
  },
  "language_info": {
   "codemirror_mode": {
    "name": "ipython",
    "version": 3
   },
   "file_extension": ".py",
   "mimetype": "text/x-python",
   "name": "python",
   "nbconvert_exporter": "python",
   "pygments_lexer": "ipython3",
   "version": "3.9.14"
  }
 },
 "nbformat": 4,
 "nbformat_minor": 4
}
