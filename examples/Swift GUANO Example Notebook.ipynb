{
 "cells": [
  {
   "cell_type": "markdown",
   "id": "66b35ec5",
   "metadata": {},
   "source": [
    "# `swift_too` module\n",
    "\n",
    "## Swift_GUANO example - querying GUANO data, i.e. dumps of BAT event data\n",
    "\n",
    "### API version = 1.2, `swifttools` = 3.0.6\n",
    "\n",
    "#### Author: Jamie A. Kennea (Penn State)\n",
    "\n",
    "What is GUANO? It is the Gamma-ray Urgent Archive for Novel Opportunities. GUANO is fully explained in the paper by [Tohuvavohu et al. (2020)](https://ui.adsabs.harvard.edu/abs/2020ApJ...900...35T/abstract). Essentially it is this, the Swift Burst Alert Telescope (BAT) is a coded mask telesope, which records individual X-ray photons as events. These events are then processed onboard to look for GRB triggers. However, sometimes the onboard trigger algorithm fails to find a GRB that is present in the BAT field of view. In these cases, it would be best to look at the event data on the ground to do a more detailed analysis to look for GRB events, however, because of telemetery limitations, the event data is only held onboard for around 25-30 mins before it is deleted. \n",
    "\n",
    "The GUANO program seeks to solve this problem, but proactively commanding Swift to keep and downlink BAT event data for times of interest. Right now this includes times at which other instruments trigger, such as Fermi/GBM, INTEGRAL, CALET and other GRB missions, as well as multi-messenger observatories such as IceCube and LIGO/Virgo/Kagra. \n",
    "\n",
    "The `Swift_GUANO` API allows you to query when these dumps occurred and were successful, and where to look for the BAT event data that were dump. We're going to use the shorthand for this class, simply `GUANO`.\n"
   ]
  },
  {
   "cell_type": "code",
   "execution_count": null,
   "id": "00f74726",
   "metadata": {},
   "outputs": [],
   "source": [
    "from swifttools.swift_too import GUANO"
   ]
  },
  {
   "cell_type": "markdown",
   "id": "77fcdadb",
   "metadata": {},
   "source": [
    "First a simple example, let's look for the most recent 10 successful GUANO dumps. "
   ]
  },
  {
   "cell_type": "code",
   "execution_count": null,
   "id": "fadc5e1f",
   "metadata": {},
   "outputs": [],
   "source": [
    "guano = GUANO(limit=10)"
   ]
  },
  {
   "cell_type": "markdown",
   "id": "f97fc5f9",
   "metadata": {},
   "source": [
    "In a Jupyter Notebook, we can just type the object name now to see the results, like so:"
   ]
  },
  {
   "cell_type": "code",
   "execution_count": null,
   "id": "aa52ac5c",
   "metadata": {},
   "outputs": [],
   "source": [
    "guano"
   ]
  },
  {
   "cell_type": "markdown",
   "id": "3a64d8fc",
   "metadata": {},
   "source": [
    "Basic information given here is the source of the trigger, usually a GRB detector, but also FRB and GW detectors. The trigger time is given, along with an offset and window duration. The offset is how much the window start is biased towards the trigger time. So for offset zero, and window duration of 200s, the trigger will be in the center of the window, at 100s. For offset 50, the window is moved 50 later, so the trigger will be at 50s and the window ends at T+150s. \n",
    "\n",
    "Note if the Window Duration has a number in brackets after it, this means that the actual length of the dump is different from that requested. This can happen due to either the dump skimming the South Atlantic Anomaly (where no data is collected), or sometimes if the dump is commanded too late, and some of the data have been lost. Alternatively this can be due to the fact that the data has not been fully processed yet, so if the dump is recent, this may resolve itself in a few hours. \n",
    "\n",
    "In some cases where the number is larger than the requested duration, this can mean that other nearby trigger was merged to create a larger dump, or in extreme cases, that the dump time overlaps a BAT detected GRB. The latter case is rare as we try to filter these out on the ground.\n",
    "\n",
    "Finally the Observation ID shows us where the BAT event data lives. If you go the Swift archive or quick-look site (recent data), e.g. here: https://swift.gsfc.nasa.gov/sdc/ql/\n",
    "\n",
    "And look for the given observation ID, you should be able to find the BAT event data for that GUANO dump. \n",
    "\n",
    "### Looking at an individual GUANO dump\n",
    "\n",
    "Let's look at an individual GUANO dump, to see what information we have."
   ]
  },
  {
   "cell_type": "code",
   "execution_count": null,
   "id": "75fd7920",
   "metadata": {},
   "outputs": [],
   "source": [
    "guano[3]"
   ]
  },
  {
   "cell_type": "markdown",
   "id": "0d600dfb",
   "metadata": {},
   "source": [
    "So here we see more detail on the event itself. In addition to what we see in the summary table, there are a few more parameters. `quadsaway` is perhaps the most complicated to understand, but perhaps also not necessary. Essentially the BAT event data live in a ring buffer, this ring buffer overwrites itself, with events living around ~25 mins in the buffer before they are overwritten. `quadsaway` gives the number of quadbytes between the dump and the buffer pointer at the time of dump. If this value is positive, it means that no data was overwritten. If the value is negative, it means that some data will have been lost, this should be seen in the difference between the requested dump `duration`, and the number of seconds of BAT event data in `data`.\n",
    "\n",
    "Also if the trigger associated with the GUANO dump had an RA/Dec, these are given. \n",
    "\n",
    "### Looking at the data\n",
    "\n",
    "The final parameter, `data` has more detail, so lets look at that."
   ]
  },
  {
   "cell_type": "code",
   "execution_count": null,
   "id": "1d87a3b6",
   "metadata": {},
   "outputs": [],
   "source": [
    "guano[3].data"
   ]
  },
  {
   "cell_type": "markdown",
   "id": "e40b0417",
   "metadata": {},
   "source": [
    "So this is essentially metadata from a simple processing the BAT event data. Important information here, `begin` and `end` give the start and end of the event data. `exposure` is the amount of event data in seconds. `filenames` is the names of the BAT event files processed for this trigger. The different filenames represent the state of swift while the data was being taken, which is encoded into the final characters of the filename. \n",
    "\n",
    "A simple breakdown of the filename:\n",
    "\n",
    "- \"sw\" for Swift\n",
    "- The 10 character long obsid in SDC format\n",
    "- \"bev\" = BAT event data\n",
    "- \"sl\"/\"po\" or sometimes \"sp\", this indicates if Swift was slewing (\"sl\"), pointing (\"po\") or in some rare cases, both (\"sp\") for the data in that file.\n",
    "- \"_uf.evt\" = this is unfiltered event data\n",
    "\n",
    "If you see more than one filename, then this means that the event data for this GUANO dump is spread across multiple files, typically because Swift was slewing at some point during the dump. Note that the parameter `acs` shows if the data is slewing, pointed or mixed.\n",
    "\n",
    "Next `gti` is an object that defines the Good Time Interval (GTI) of the GUANO dump. In this table, it is show and `begin` and `end` times of the GTI with `exposure` in brackets.\n",
    "\n",
    "`gti` is a merged GTI, merging all the different GTIs given in `all_gtis` if they overlap. Typically `all_gtis` shows 2 GTIs if there are two `filenames`. However if there are gaps in the data, `all_gtis` can show more GTIs.\n",
    "\n",
    "`gti` importantly only covers the continuous GTI that includes `triggertime`. Let's take a look at that.\n"
   ]
  },
  {
   "cell_type": "code",
   "execution_count": null,
   "id": "b51a76a5",
   "metadata": {},
   "outputs": [],
   "source": [
    "guano[0].data.gti"
   ]
  },
  {
   "cell_type": "markdown",
   "id": "91011008",
   "metadata": {},
   "source": [
    "So here we see the usual information, `begin`, `end` and `exposure`. In addition `acs` for this GTI is reported, along with the filename(s) associated with the BAT event data processed.\n",
    "\n",
    "### Note on UT Correction Factor \n",
    "Also you'll note `utcf`, which is a negative number of seconds. This is the Univeral Time Correction Factor (UTCF), which corrects time that Swift reports to actual UT. This includes both correction for drift in the Swift clock, and leap seconds. GUANO trigger times and `begin` and `end` times are corrected using this `utcf` value, as it is important that the reported times match a common time system when comparing with other missions. \n",
    "\n",
    "Other times, such as those reported by Swift_ObsQuery for when Swift observations occur, are not at this time corrected to UTC, as the absolute timing for these is are not critical. UTCF corrections are typically performed during data analysis, for example when performing barycentric correction using the standard HEAsoft `barycorr` tool.\n",
    "\n",
    "Swift times can also be corrected to UT using the HEAsoft `swifttime` analysis tool. If you use this, make sure that your Swift calibration files are upto date as the clock correction is updated regularly. \n",
    "\n",
    "#### Update for `swifttools` 2.4\n",
    "\n",
    "As noted elsewhere, clock correction can now be performed on results from a class using the `clock_correct` method.\n",
    "\n",
    "As of `swifttools` 2.4, all recorded dates in the `GUANO` class and its subclasses are automatically clock corrected. By default, all dates are UTC, not Swift time, and dates are stored in the `swiftdatetime` format, which is an extended version of Python's `datetime`, which supports clock correction, and MET conversion. So as an example, the trigger time for the above trigger:"
   ]
  },
  {
   "cell_type": "code",
   "execution_count": null,
   "id": "ff849532",
   "metadata": {},
   "outputs": [],
   "source": [
    "guano[0].triggertime"
   ]
  },
  {
   "cell_type": "markdown",
   "id": "0fc82223",
   "metadata": {},
   "source": [
    "So this time is record in datetime by default, but you can access the time as MET by using the `met` attribute, or the time as recorded by the Swift clock using the `swifttime` attribute. E.g."
   ]
  },
  {
   "cell_type": "code",
   "execution_count": null,
   "id": "a8c3ad2b",
   "metadata": {},
   "outputs": [],
   "source": [
    "print(f\"Trigger MET        = {guano[0].triggertime.met}\")\n",
    "print(f\"Trigger Swift Time = {guano[0].triggertime.swifttime}\")\n",
    "print(f\"Trigger UTC Time   = {guano[0].triggertime.utctime}\")"
   ]
  },
  {
   "cell_type": "markdown",
   "id": "969e51aa",
   "metadata": {},
   "source": [
    "### Fetching GUANO data for a specific triggers or date ranges\n",
    "\n",
    "The above example show fetching recent triggers, what about for date ranges, or specific times. Here we'll give a few examples of how to search for GUANO triggers using time searches. Firstly, let's see what GUANO dumps occrred during Jan 1st, 2022:"
   ]
  },
  {
   "cell_type": "code",
   "execution_count": null,
   "id": "f5484cf9",
   "metadata": {},
   "outputs": [],
   "source": [
    "guano = GUANO(begin=\"2022-01-01\", end=\"2022-01-02\", limit=100)\n",
    "guano"
   ]
  },
  {
   "cell_type": "markdown",
   "id": "0bde242a",
   "metadata": {},
   "source": [
    "So on Jan 1st, 2022 there were three GUANO dumps, 2 Fermi/GBM detected GRBs and one INTEGRAL GRB. By default, GBM GRBs are dumped for 200s and INTEGRAL GRBs are dumped for 90s. However, in this case you can see that the actual amount of event data for the INTEGRAL GRB was 1202s. Let's look into why, by taking a look at the `Swift_GUANO_Data` object associated with that trigger."
   ]
  },
  {
   "cell_type": "code",
   "execution_count": null,
   "id": "e7c78b02",
   "metadata": {},
   "outputs": [],
   "source": [
    "guano[-1].data"
   ]
  },
  {
   "cell_type": "markdown",
   "id": "ce60f7ae",
   "metadata": {},
   "source": [
    "So it looks like around 20 minutes of event data were dumped during starting more than 5 minutes before the trigger time. Why did this happen? Well, if you notice the filename, the slew type here is \"sp\" which means \"slewing and pointing\". Why not two files like we see in others - the reason is that this event data was dumped not due to a GUANO request, but because there was a BAT triggered GRB at the same time. \n",
    "\n",
    "In this case, GRB 220101A. Looking at GCN #31347 this GRB triggered BAT at 05:09:55UT, over a minute before the INTEGRAL trigger. However, it's likely that the INTEGRAL trigger was the same GRB. \n",
    "\n",
    "### Fetching the data\n",
    "\n",
    "OK, so what if we want to process these data? Well, a full BAT analysis tutorial isn't the aim here, but a good start is to download the data associated with this trigger. We can do this with the `Swift_Data` class. We'll set `bat = True`, the auxil data will come down, and we'll download it our Downloads directory."
   ]
  },
  {
   "cell_type": "code",
   "execution_count": null,
   "id": "59615e89",
   "metadata": {},
   "outputs": [],
   "source": [
    "from swifttools.swift_too import Data\n",
    "\n",
    "data = Data(obsid=guano[-2].obsid, bat=True, outdir=\"~/Downloads/\", clobber=True)"
   ]
  },
  {
   "cell_type": "markdown",
   "id": "d3ff155b",
   "metadata": {},
   "source": [
    "Let's look to see what we got. As this was the data for a GRB, it will be quite a lot as this was a BAT triggered GRB."
   ]
  },
  {
   "cell_type": "code",
   "execution_count": null,
   "id": "e848c1b1",
   "metadata": {},
   "outputs": [],
   "source": [
    "data"
   ]
  },
  {
   "cell_type": "markdown",
   "id": "e2a923d5",
   "metadata": {},
   "source": [
    "You can see that the all important file `sw00031306080bevshpo_uf.evt.gz` is up there in the bat/event directory. Here is the file details for the event files:"
   ]
  },
  {
   "cell_type": "code",
   "execution_count": null,
   "id": "cdc5a141",
   "metadata": {},
   "outputs": [],
   "source": [
    "data[12]"
   ]
  },
  {
   "cell_type": "markdown",
   "id": "466393ce",
   "metadata": {},
   "source": [
    "You can see that now the file is downloaded, `localpath` gives the full path to where the data lives.\n",
    "\n",
    "#### `swifttools 3.0.6` added `download` method.\n",
    "\n",
    "Note that you can also use the `download` method to download data, as of `swifttools` version 3.0.6. This means you don't have to start a seperate Data instance to download data, but the end result is the dame. Here is an example:\n"
   ]
  },
  {
   "cell_type": "code",
   "execution_count": null,
   "id": "cbb36fe3",
   "metadata": {},
   "outputs": [],
   "source": [
    "guano[-2].download(bat=True, outdir=\"~/Downloads/\", clobber=True)"
   ]
  },
  {
   "cell_type": "markdown",
   "id": "ed8f1ab6",
   "metadata": {},
   "source": [
    "That's all folks!"
   ]
  }
 ],
 "metadata": {
  "kernelspec": {
   "display_name": "Python 3 (ipykernel)",
   "language": "python",
   "name": "python3"
  },
  "language_info": {
   "codemirror_mode": {
    "name": "ipython",
    "version": 3
   },
   "file_extension": ".py",
   "mimetype": "text/x-python",
   "name": "python",
   "nbconvert_exporter": "python",
   "pygments_lexer": "ipython3",
   "version": "3.9.14"
  }
 },
 "nbformat": 4,
 "nbformat_minor": 5
}
